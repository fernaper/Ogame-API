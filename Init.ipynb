{
 "cells": [
  {
   "cell_type": "code",
   "execution_count": 1,
   "metadata": {},
   "outputs": [],
   "source": [
    "from preprocess import preparation\n",
    "from espionage import espionage as spy\n",
    "from mydata import base\n",
    "import io\n",
    "import os.path\n",
    "import json"
   ]
  },
  {
   "cell_type": "code",
   "execution_count": 2,
   "metadata": {
    "collapsed": true
   },
   "outputs": [],
   "source": [
    "config = preparation.load_config()\n",
    "structures = preparation.load_structures(lang=config['language'])"
   ]
  },
  {
   "cell_type": "code",
   "execution_count": 4,
   "metadata": {
    "scrolled": true
   },
   "outputs": [
    {
     "name": "stdout",
     "output_type": "stream",
     "text": [
      "{'planet': 'Koprulu', 'coordinates': '[6:456:8]', 'date': '08.06.2018 12:09:28', 'name': 'Rapero Furioso', 'inactive': False, 'counterspionage': '0', 'resources': {'metal': '407.917', 'crystal': '539.762', 'deuteryum': '227.057', 'energy': '3.108'}, 'ships': {}, 'defense': {}, 'buildings': {}, 'research': {}, 'care': True}\n"
     ]
    }
   ],
   "source": [
    "with io.open('espionage/input.txt', 'r', encoding='utf-8') as my_spy:\n",
    "    analysis = spy.read_espionage(my_spy.read(), structures)\n",
    "print(analysis)\n",
    "\n",
    "dump = json.dumps(analysis)\n",
    "with io.open('espionage/my_spy/{}-{}.json'.format(analysis.get('name'), analysis.get('planet')),\"w\", encoding='utf-8') as my_spy:\n",
    "    my_spy.write(dump)"
   ]
  }
 ],
 "metadata": {
  "kernelspec": {
   "display_name": "Python 3",
   "language": "python",
   "name": "python3"
  },
  "language_info": {
   "codemirror_mode": {
    "name": "ipython",
    "version": 3
   },
   "file_extension": ".py",
   "mimetype": "text/x-python",
   "name": "python",
   "nbconvert_exporter": "python",
   "pygments_lexer": "ipython3",
   "version": "3.6.2"
  }
 },
 "nbformat": 4,
 "nbformat_minor": 2
}
