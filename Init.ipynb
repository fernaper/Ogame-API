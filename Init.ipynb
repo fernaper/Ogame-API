{
 "cells": [
  {
   "cell_type": "code",
   "execution_count": 1,
   "metadata": {},
   "outputs": [],
   "source": [
    "from preprocess import preparation\n",
    "from espionage import espionage as spy"
   ]
  },
  {
   "cell_type": "code",
   "execution_count": 2,
   "metadata": {},
   "outputs": [],
   "source": [
    "config = preparation.load_config()\n",
    "structures = preparation.load_structures(lang=config['language'])"
   ]
  },
  {
   "cell_type": "code",
   "execution_count": 4,
   "metadata": {
    "scrolled": true
   },
   "outputs": [
    {
     "name": "stdout",
     "output_type": "stream",
     "text": [
      "{'planet': 'Francisca', 'coordinates': '[6:457:6]', 'date': '08.06.2018 12:09:08', 'name': 'Senator Aries', 'counterspionage': '0', 'metal': '1,552M', 'crystal': '1,408M', 'deuteryum': '420.330', 'energy': '10.149'}\n"
     ]
    }
   ],
   "source": [
    "with open('espionage/input.txt') as my_spy:\n",
    "    json = spy.read_espionage(my_spy.read(), lang=config['language'])\n",
    "print(json)"
   ]
  },
  {
   "cell_type": "code",
   "execution_count": null,
   "metadata": {
    "collapsed": true
   },
   "outputs": [],
   "source": []
  }
 ],
 "metadata": {
  "kernelspec": {
   "display_name": "Python 3",
   "language": "python",
   "name": "python3"
  },
  "language_info": {
   "codemirror_mode": {
    "name": "ipython",
    "version": 3
   },
   "file_extension": ".py",
   "mimetype": "text/x-python",
   "name": "python",
   "nbconvert_exporter": "python",
   "pygments_lexer": "ipython3",
   "version": "3.6.2"
  }
 },
 "nbformat": 4,
 "nbformat_minor": 2
}
