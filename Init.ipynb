{
 "cells": [
  {
   "cell_type": "code",
   "execution_count": 1,
   "metadata": {},
   "outputs": [],
   "source": [
    "from preprocess import preparation\n",
    "from espionage import espionage as spy\n",
    "from espionage import ranking\n",
    "from mydata import base\n",
    "import io\n",
    "import os.path\n",
    "import json"
   ]
  },
  {
   "cell_type": "code",
   "execution_count": 2,
   "metadata": {
    "collapsed": true
   },
   "outputs": [],
   "source": [
    "config = preparation.load_config()\n",
    "structures = preparation.load_structures(lang=config['language'])"
   ]
  },
  {
   "cell_type": "code",
   "execution_count": 3,
   "metadata": {
    "scrolled": false
   },
   "outputs": [
    {
     "name": "stdout",
     "output_type": "stream",
     "text": [
      "{'planet': 'Koprulu', 'coordinates': '[6:456:8]', 'date': '08.06.2018 12:09:28', 'name': 'Rapero Furioso', 'inactive': False, 'counterspionage': '0', 'resources': {'metal': '407.917', 'crystal': '539.762', 'deuteryum': '227.057', 'energy': '3.108'}, 'ships': {}, 'defense': {}, 'buildings': {}, 'research': {}, 'care': True}\n"
     ]
    }
   ],
   "source": [
    "with io.open('espionage/input.txt', 'r', encoding='utf-8') as my_spy:\n",
    "    analysis = spy.read_espionage(my_spy.read(), structures)\n",
    "print(analysis)\n",
    "\n",
    "dump = json.dumps(analysis)\n",
    "with io.open('espionage/my_spy/{}-{}.json'.format(analysis.get('name'), analysis.get('planet')),\"w\", encoding='utf-8') as my_spy:\n",
    "    my_spy.write(dump)"
   ]
  },
  {
   "cell_type": "code",
   "execution_count": 4,
   "metadata": {
    "collapsed": true
   },
   "outputs": [],
   "source": [
    "r = ranking.Ranking(defense=False)\n",
    "r.add_espionage(analysis)"
   ]
  },
  {
   "cell_type": "code",
   "execution_count": 5,
   "metadata": {},
   "outputs": [
    {
     "name": "stdout",
     "output_type": "stream",
     "text": [
      "['08', '06', '2018']\n",
      "['08', '06', '2018']\n",
      "<map object at 0x0000022710BB8EF0>\n",
      "<map object at 0x0000022710BBD048>\n"
     ]
    },
    {
     "ename": "TypeError",
     "evalue": "'map' object is not subscriptable",
     "output_type": "error",
     "traceback": [
      "\u001b[1;31m---------------------------------------------------------------------------\u001b[0m",
      "\u001b[1;31mTypeError\u001b[0m                                 Traceback (most recent call last)",
      "\u001b[1;32m<ipython-input-5-bfc16be8dad7>\u001b[0m in \u001b[0;36m<module>\u001b[1;34m()\u001b[0m\n\u001b[0;32m      2\u001b[0m \u001b[0ma\u001b[0m\u001b[1;33m[\u001b[0m\u001b[1;34m'coordinates'\u001b[0m\u001b[1;33m]\u001b[0m \u001b[1;33m=\u001b[0m \u001b[1;34m'[1:456:8]'\u001b[0m\u001b[1;33m\u001b[0m\u001b[0m\n\u001b[0;32m      3\u001b[0m \u001b[0ma\u001b[0m\u001b[1;33m[\u001b[0m\u001b[1;34m'resources'\u001b[0m\u001b[1;33m]\u001b[0m \u001b[1;33m=\u001b[0m \u001b[1;33m{\u001b[0m\u001b[1;34m'metal'\u001b[0m\u001b[1;33m:\u001b[0m\u001b[1;34m'100'\u001b[0m\u001b[1;33m,\u001b[0m\u001b[1;34m'crystal'\u001b[0m\u001b[1;33m:\u001b[0m\u001b[1;34m'200'\u001b[0m\u001b[1;33m,\u001b[0m\u001b[1;34m'deuteryum'\u001b[0m\u001b[1;33m:\u001b[0m\u001b[1;34m'300'\u001b[0m\u001b[1;33m}\u001b[0m\u001b[1;33m\u001b[0m\u001b[0m\n\u001b[1;32m----> 4\u001b[1;33m \u001b[0mr\u001b[0m\u001b[1;33m.\u001b[0m\u001b[0madd_espionage\u001b[0m\u001b[1;33m(\u001b[0m\u001b[0ma\u001b[0m\u001b[1;33m)\u001b[0m\u001b[1;33m\u001b[0m\u001b[0m\n\u001b[0m\u001b[0;32m      5\u001b[0m \u001b[1;33m\u001b[0m\u001b[0m\n\u001b[0;32m      6\u001b[0m \u001b[0mb\u001b[0m \u001b[1;33m=\u001b[0m \u001b[0manalysis\u001b[0m\u001b[1;33m.\u001b[0m\u001b[0mcopy\u001b[0m\u001b[1;33m(\u001b[0m\u001b[1;33m)\u001b[0m\u001b[1;33m\u001b[0m\u001b[0m\n",
      "\u001b[1;32m~\\Documents\\GitHub\\Ogame-API\\espionage\\ranking.py\u001b[0m in \u001b[0;36madd_espionage\u001b[1;34m(self, espionage)\u001b[0m\n\u001b[0;32m     64\u001b[0m     \u001b[1;32mdef\u001b[0m \u001b[0madd_espionage\u001b[0m\u001b[1;33m(\u001b[0m\u001b[0mself\u001b[0m\u001b[1;33m,\u001b[0m \u001b[0mespionage\u001b[0m\u001b[1;33m)\u001b[0m\u001b[1;33m:\u001b[0m\u001b[1;33m\u001b[0m\u001b[0m\n\u001b[0;32m     65\u001b[0m         \u001b[1;32mfor\u001b[0m \u001b[0mi\u001b[0m \u001b[1;32min\u001b[0m \u001b[0mrange\u001b[0m\u001b[1;33m(\u001b[0m\u001b[0mlen\u001b[0m\u001b[1;33m(\u001b[0m\u001b[0mself\u001b[0m\u001b[1;33m.\u001b[0m\u001b[0mmy_espionages\u001b[0m\u001b[1;33m)\u001b[0m\u001b[1;33m)\u001b[0m\u001b[1;33m:\u001b[0m\u001b[1;33m\u001b[0m\u001b[0m\n\u001b[1;32m---> 66\u001b[1;33m             \u001b[1;32mif\u001b[0m \u001b[0mespionage\u001b[0m\u001b[1;33m[\u001b[0m\u001b[1;34m'name'\u001b[0m\u001b[1;33m]\u001b[0m \u001b[1;33m==\u001b[0m \u001b[0mself\u001b[0m\u001b[1;33m.\u001b[0m\u001b[0mmy_espionages\u001b[0m\u001b[1;33m[\u001b[0m\u001b[0mi\u001b[0m\u001b[1;33m]\u001b[0m\u001b[1;33m[\u001b[0m\u001b[1;34m'name'\u001b[0m\u001b[1;33m]\u001b[0m \u001b[1;32mand\u001b[0m \u001b[0mespionage\u001b[0m\u001b[1;33m[\u001b[0m\u001b[1;34m'planet'\u001b[0m\u001b[1;33m]\u001b[0m \u001b[1;33m==\u001b[0m \u001b[0mself\u001b[0m\u001b[1;33m.\u001b[0m\u001b[0mmy_espionages\u001b[0m\u001b[1;33m[\u001b[0m\u001b[0mi\u001b[0m\u001b[1;33m]\u001b[0m\u001b[1;33m[\u001b[0m\u001b[1;34m'planet'\u001b[0m\u001b[1;33m]\u001b[0m \u001b[1;32mand\u001b[0m \u001b[0mnew_date\u001b[0m\u001b[1;33m(\u001b[0m\u001b[0mespionage\u001b[0m\u001b[1;33m[\u001b[0m\u001b[1;34m'date'\u001b[0m\u001b[1;33m]\u001b[0m\u001b[1;33m,\u001b[0m \u001b[0mself\u001b[0m\u001b[1;33m.\u001b[0m\u001b[0mmy_espionages\u001b[0m\u001b[1;33m[\u001b[0m\u001b[0mi\u001b[0m\u001b[1;33m]\u001b[0m\u001b[1;33m[\u001b[0m\u001b[1;34m'date'\u001b[0m\u001b[1;33m]\u001b[0m\u001b[1;33m)\u001b[0m\u001b[1;33m:\u001b[0m\u001b[1;33m\u001b[0m\u001b[0m\n\u001b[0m\u001b[0;32m     67\u001b[0m                 \u001b[0mself\u001b[0m\u001b[1;33m.\u001b[0m\u001b[0mmy_espionages\u001b[0m\u001b[1;33m[\u001b[0m\u001b[0mi\u001b[0m\u001b[1;33m]\u001b[0m \u001b[1;33m=\u001b[0m \u001b[0mespionage\u001b[0m\u001b[1;33m\u001b[0m\u001b[0m\n\u001b[0;32m     68\u001b[0m                 \u001b[1;32mreturn\u001b[0m\u001b[1;33m\u001b[0m\u001b[0m\n",
      "\u001b[1;32m~\\Documents\\GitHub\\Ogame-API\\espionage\\ranking.py\u001b[0m in \u001b[0;36mnew_date\u001b[1;34m(old_date, new_date)\u001b[0m\n\u001b[0;32m     40\u001b[0m     \u001b[0mprint\u001b[0m\u001b[1;33m(\u001b[0m\u001b[0mnew_day\u001b[0m\u001b[1;33m)\u001b[0m\u001b[1;33m\u001b[0m\u001b[0m\n\u001b[0;32m     41\u001b[0m     \u001b[1;32mfor\u001b[0m \u001b[0mi\u001b[0m \u001b[1;32min\u001b[0m \u001b[0mrange\u001b[0m\u001b[1;33m(\u001b[0m\u001b[1;36m2\u001b[0m\u001b[1;33m,\u001b[0m\u001b[1;33m-\u001b[0m\u001b[1;36m1\u001b[0m\u001b[1;33m,\u001b[0m\u001b[1;33m-\u001b[0m\u001b[1;36m1\u001b[0m\u001b[1;33m)\u001b[0m\u001b[1;33m:\u001b[0m\u001b[1;33m\u001b[0m\u001b[0m\n\u001b[1;32m---> 42\u001b[1;33m         \u001b[1;32mif\u001b[0m \u001b[0mold_day\u001b[0m\u001b[1;33m[\u001b[0m\u001b[0mi\u001b[0m\u001b[1;33m]\u001b[0m \u001b[1;33m<=\u001b[0m \u001b[0mnew_day\u001b[0m\u001b[1;33m[\u001b[0m\u001b[0mi\u001b[0m\u001b[1;33m]\u001b[0m\u001b[1;33m:\u001b[0m\u001b[1;33m\u001b[0m\u001b[0m\n\u001b[0m\u001b[0;32m     43\u001b[0m             \u001b[1;32mreturn\u001b[0m \u001b[0mold_day\u001b[0m\u001b[1;33m[\u001b[0m\u001b[0mi\u001b[0m\u001b[1;33m]\u001b[0m \u001b[1;33m<\u001b[0m \u001b[0mnew_day\u001b[0m\u001b[1;33m[\u001b[0m\u001b[0mi\u001b[0m\u001b[1;33m]\u001b[0m\u001b[1;33m\u001b[0m\u001b[0m\n\u001b[0;32m     44\u001b[0m \u001b[1;33m\u001b[0m\u001b[0m\n",
      "\u001b[1;31mTypeError\u001b[0m: 'map' object is not subscriptable"
     ]
    }
   ],
   "source": [
    "a = analysis.copy()\n",
    "a['coordinates'] = '[1:456:8]'\n",
    "a['resources'] = {'metal':'100','crystal':'200','deuteryum':'300'}\n",
    "r.add_espionage(a)\n",
    "\n",
    "b = analysis.copy()\n",
    "b['coordinates'] = '[2:457:8]'\n",
    "b['resources'] = {'metal':'200','crystal':'100','deuteryum':'300'}\n",
    "b['care']=False\n",
    "r.add_espionage(b)\n",
    "\n",
    "c = analysis.copy()\n",
    "c['coordinates'] = '[2:456:9]'\n",
    "c['resources'] = {'metal':'300','crystal':'200','deuteryum':'200'}\n",
    "c['care']=False\n",
    "r.add_espionage(c)\n",
    "\n",
    "d = analysis.copy()\n",
    "d['coordinates'] = '[3:200:1]'\n",
    "d['resources'] = {'metal':'1.000','crystal':'0','deuteryum':'250'}\n",
    "r.add_espionage(d)"
   ]
  },
  {
   "cell_type": "code",
   "execution_count": 10,
   "metadata": {},
   "outputs": [
    {
     "data": {
      "text/plain": [
       "[{'buildings': {},\n",
       "  'care': True,\n",
       "  'coordinates': '[6:456:8]',\n",
       "  'counterspionage': '0',\n",
       "  'date': '08.06.2018 12:09:28',\n",
       "  'defense': {},\n",
       "  'inactive': False,\n",
       "  'name': 'Rapero Furioso',\n",
       "  'planet': 'Koprulu',\n",
       "  'research': {},\n",
       "  'resources': {'crystal': '539.762',\n",
       "   'deuteryum': '227.057',\n",
       "   'energy': '3.108',\n",
       "   'metal': '407.917'},\n",
       "  'ships': {}}]"
      ]
     },
     "execution_count": 10,
     "metadata": {},
     "output_type": "execute_result"
    }
   ],
   "source": [
    "r.ranking_clossnes()"
   ]
  },
  {
   "cell_type": "code",
   "execution_count": 11,
   "metadata": {},
   "outputs": [
    {
     "data": {
      "text/plain": [
       "[{'buildings': {},\n",
       "  'care': True,\n",
       "  'coordinates': '[6:456:8]',\n",
       "  'counterspionage': '0',\n",
       "  'date': '08.06.2018 12:09:28',\n",
       "  'defense': {},\n",
       "  'inactive': False,\n",
       "  'name': 'Rapero Furioso',\n",
       "  'planet': 'Koprulu',\n",
       "  'research': {},\n",
       "  'resources': {'crystal': '539.762',\n",
       "   'deuteryum': '227.057',\n",
       "   'energy': '3.108',\n",
       "   'metal': '407.917'},\n",
       "  'ships': {}}]"
      ]
     },
     "execution_count": 11,
     "metadata": {},
     "output_type": "execute_result"
    }
   ],
   "source": [
    "r.ranking_resources()"
   ]
  },
  {
   "cell_type": "code",
   "execution_count": 12,
   "metadata": {},
   "outputs": [
    {
     "name": "stdout",
     "output_type": "stream",
     "text": [
      "1.0\n",
      "1.0\n",
      "0.54557\n",
      "1.5455695388755573\n"
     ]
    },
    {
     "data": {
      "text/plain": [
       "[{'buildings': {},\n",
       "  'care': True,\n",
       "  'coordinates': '[6:456:8]',\n",
       "  'counterspionage': '0',\n",
       "  'date': '08.06.2018 12:09:28',\n",
       "  'defense': {},\n",
       "  'inactive': False,\n",
       "  'name': 'Rapero Furioso',\n",
       "  'planet': 'Koprulu',\n",
       "  'research': {},\n",
       "  'resources': {'crystal': '539.762',\n",
       "   'deuteryum': '227.057',\n",
       "   'energy': '3.108',\n",
       "   'metal': '407.917'},\n",
       "  'ships': {}}]"
      ]
     },
     "execution_count": 12,
     "metadata": {},
     "output_type": "execute_result"
    }
   ],
   "source": [
    "r.ranking_generic()"
   ]
  },
  {
   "cell_type": "code",
   "execution_count": null,
   "metadata": {
    "collapsed": true
   },
   "outputs": [],
   "source": []
  }
 ],
 "metadata": {
  "kernelspec": {
   "display_name": "Python 3",
   "language": "python",
   "name": "python3"
  },
  "language_info": {
   "codemirror_mode": {
    "name": "ipython",
    "version": 3
   },
   "file_extension": ".py",
   "mimetype": "text/x-python",
   "name": "python",
   "nbconvert_exporter": "python",
   "pygments_lexer": "ipython3",
   "version": "3.6.2"
  }
 },
 "nbformat": 4,
 "nbformat_minor": 2
}
