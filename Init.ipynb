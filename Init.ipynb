{
 "cells": [
  {
   "cell_type": "code",
   "execution_count": 9,
   "metadata": {},
   "outputs": [],
   "source": [
    "from preprocess import preparation\n",
    "from espionage import espionage as spy\n",
    "import io\n",
    "import os.path\n",
    "import json"
   ]
  },
  {
   "cell_type": "code",
   "execution_count": 10,
   "metadata": {
    "collapsed": true
   },
   "outputs": [],
   "source": [
    "config = preparation.load_config()\n",
    "structures = preparation.load_structures(lang=config['language'])"
   ]
  },
  {
   "cell_type": "code",
   "execution_count": 11,
   "metadata": {
    "scrolled": true
   },
   "outputs": [
    {
     "name": "stdout",
     "output_type": "stream",
     "text": [
      "{'planet': 'Francisca', 'coordinates': '[6:457:6]', 'date': '08.06.2018 12:09:08', 'name': 'Senator Aries', 'inactive': False, 'counterspionage': '0', 'resources': {'metal': '1,552M', 'crystal': '1,408M', 'deuteryum': '420.330', 'energy': '10.149'}, 'ships': {'large_cargo_ship': 105, 'recycler': 6, 'solar_satellite': 25}, 'defense': {'rocket_launcher': 1148, 'light_laser': 573, 'heavy_laser': 313, 'gauss_cannon': 166, 'ion_cannon': 681, 'plasma_turret': 72, 'small_shield_dome': 1, 'large_shield_dome': 1, 'antiballistic_missile': 20}, 'buildings': {'metal_mine': 23, 'crystal_mine': 23, 'deuterium_synthesizer': 23, 'solar_plant': 26, 'fusion_reactor': 13, 'robotics_factory': 12, 'nanite_factory': 1, 'hangar': 12, 'metal_tank': 9, 'crystal_tank': 9, 'deuterium_tank': 8, 'research_lab': 9, 'terraformer': 1, 'alliance_depot': 2, 'orbital_shipyard': 4, 'missile_silo': 4}, 'research': {'spionage_technology': 8, 'computer_technology': 12, 'weapon_technology': 12, 'shielding_technology': 12, 'armour_technology': 11, 'energy_technology': 12, 'hyperspace_technology': 9, 'combustion_drive': 12, 'impulse_drive': 9, 'hyperspace_drive': 7, 'laser_technology': 14, 'ion_technology': 9, 'plasma_technology': 9, 'intergalactic_network': 2, 'astrophysics': 7}, 'care': False}\n"
     ]
    }
   ],
   "source": [
    "with io.open('espionage/input.txt', 'r', encoding='utf-8') as my_spy:\n",
    "    analysis = spy.read_espionage(my_spy.read(), structures)\n",
    "print(analysis)\n",
    "\n",
    "dump = json.dumps(analysis)\n",
    "with io.open('espionage/my_spy/{}-{}.json'.format(analysis.get('name'), analysis.get('planet')),\"w\", encoding='utf-8') as my_spy:\n",
    "    my_spy.write(dump)"
   ]
  },
  {
   "cell_type": "code",
   "execution_count": null,
   "metadata": {
    "collapsed": true
   },
   "outputs": [],
   "source": []
  }
 ],
 "metadata": {
  "kernelspec": {
   "display_name": "Python 3",
   "language": "python",
   "name": "python3"
  },
  "language_info": {
   "codemirror_mode": {
    "name": "ipython",
    "version": 3
   },
   "file_extension": ".py",
   "mimetype": "text/x-python",
   "name": "python",
   "nbconvert_exporter": "python",
   "pygments_lexer": "ipython3",
   "version": "3.6.2"
  }
 },
 "nbformat": 4,
 "nbformat_minor": 2
}
