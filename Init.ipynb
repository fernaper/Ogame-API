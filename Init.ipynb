{
 "cells": [
  {
   "cell_type": "code",
   "execution_count": 1,
   "metadata": {
    "collapsed": true
   },
   "outputs": [],
   "source": [
    "from preprocess import preparation\n",
    "from espionage import espionage as spy\n",
    "from espionage import ranking\n",
    "from mydata import base\n",
    "import io\n",
    "import os.path\n",
    "import json"
   ]
  },
  {
   "cell_type": "code",
   "execution_count": 2,
   "metadata": {
    "collapsed": true
   },
   "outputs": [],
   "source": [
    "config = preparation.load_config()\n",
    "structures = preparation.load_structures(lang=config['language'])"
   ]
  },
  {
   "cell_type": "code",
   "execution_count": 3,
   "metadata": {
    "scrolled": false
   },
   "outputs": [
    {
     "name": "stdout",
     "output_type": "stream",
     "text": [
      "{'planet': 'Koprulu', 'coordinates': '[6:456:8]', 'date': '08.06.2018 12:09:28', 'name': 'Rapero Furioso', 'inactive': False, 'counterspionage': '0', 'resources': {'metal': '407.917', 'crystal': '539.762', 'deuteryum': '227.057', 'energy': '3.108'}, 'ships': {}, 'defense': {}, 'buildings': {}, 'research': {}, 'care': True}\n"
     ]
    }
   ],
   "source": [
    "with io.open('espionage/input.txt', 'r', encoding='utf-8') as my_spy:\n",
    "    analysis = spy.read_espionage(my_spy.read(), structures)\n",
    "print(analysis)\n",
    "\n",
    "dump = json.dumps(analysis)\n",
    "with io.open('espionage/my_spy/{}-{}.json'.format(analysis.get('name'), analysis.get('planet')),\"w\", encoding='utf-8') as my_spy:\n",
    "    my_spy.write(dump)"
   ]
  },
  {
   "cell_type": "code",
   "execution_count": 4,
   "metadata": {
    "collapsed": true
   },
   "outputs": [],
   "source": [
    "r = ranking.Ranking(defense=False)\n",
    "r.add_espionage(analysis)"
   ]
  },
  {
   "cell_type": "code",
   "execution_count": 5,
   "metadata": {
    "collapsed": true
   },
   "outputs": [],
   "source": [
    "a = analysis.copy()\n",
    "a['coordinates'] = '[1:456:8]'\n",
    "a['resources'] = {'metal':'100','crystal':'200','deuteryum':'300'}\n",
    "r.add_espionage(a)\n",
    "\n",
    "b = analysis.copy()\n",
    "b['coordinates'] = '[2:457:8]'\n",
    "b['resources'] = {'metal':'200','crystal':'100','deuteryum':'300'}\n",
    "b['care']=False\n",
    "r.add_espionage(b)\n",
    "\n",
    "c = analysis.copy()\n",
    "c['coordinates'] = '[2:456:9]'\n",
    "c['resources'] = {'metal':'300','crystal':'200','deuteryum':'200'}\n",
    "c['care']=False\n",
    "r.add_espionage(c)\n",
    "\n",
    "d = analysis.copy()\n",
    "d['coordinates'] = '[3:200:1]'\n",
    "d['resources'] = {'metal':'1.000','crystal':'0','deuteryum':'250'}\n",
    "r.add_espionage(d)"
   ]
  },
  {
   "cell_type": "code",
   "execution_count": 6,
   "metadata": {},
   "outputs": [
    {
     "data": {
      "text/plain": [
       "[{'buildings': {},\n",
       "  'care': False,\n",
       "  'coordinates': '[2:456:9]',\n",
       "  'counterspionage': '0',\n",
       "  'date': '08.06.2018 12:09:28',\n",
       "  'defense': {},\n",
       "  'inactive': False,\n",
       "  'name': 'Rapero Furioso',\n",
       "  'planet': 'Koprulu',\n",
       "  'research': {},\n",
       "  'resources': {'crystal': '200', 'deuteryum': '200', 'metal': '300'},\n",
       "  'ships': {}},\n",
       " {'buildings': {},\n",
       "  'care': False,\n",
       "  'coordinates': '[2:457:8]',\n",
       "  'counterspionage': '0',\n",
       "  'date': '08.06.2018 12:09:28',\n",
       "  'defense': {},\n",
       "  'inactive': False,\n",
       "  'name': 'Rapero Furioso',\n",
       "  'planet': 'Koprulu',\n",
       "  'research': {},\n",
       "  'resources': {'crystal': '100', 'deuteryum': '300', 'metal': '200'},\n",
       "  'ships': {}},\n",
       " {'buildings': {},\n",
       "  'care': True,\n",
       "  'coordinates': '[1:456:8]',\n",
       "  'counterspionage': '0',\n",
       "  'date': '08.06.2018 12:09:28',\n",
       "  'defense': {},\n",
       "  'inactive': False,\n",
       "  'name': 'Rapero Furioso',\n",
       "  'planet': 'Koprulu',\n",
       "  'research': {},\n",
       "  'resources': {'crystal': '200', 'deuteryum': '300', 'metal': '100'},\n",
       "  'ships': {}},\n",
       " {'buildings': {},\n",
       "  'care': True,\n",
       "  'coordinates': '[3:200:1]',\n",
       "  'counterspionage': '0',\n",
       "  'date': '08.06.2018 12:09:28',\n",
       "  'defense': {},\n",
       "  'inactive': False,\n",
       "  'name': 'Rapero Furioso',\n",
       "  'planet': 'Koprulu',\n",
       "  'research': {},\n",
       "  'resources': {'crystal': '0', 'deuteryum': '250', 'metal': '1.000'},\n",
       "  'ships': {}},\n",
       " {'buildings': {},\n",
       "  'care': True,\n",
       "  'coordinates': '[6:456:8]',\n",
       "  'counterspionage': '0',\n",
       "  'date': '08.06.2018 12:09:28',\n",
       "  'defense': {},\n",
       "  'inactive': False,\n",
       "  'name': 'Rapero Furioso',\n",
       "  'planet': 'Koprulu',\n",
       "  'research': {},\n",
       "  'resources': {'crystal': '539.762',\n",
       "   'deuteryum': '227.057',\n",
       "   'energy': '3.108',\n",
       "   'metal': '407.917'},\n",
       "  'ships': {}}]"
      ]
     },
     "execution_count": 6,
     "metadata": {},
     "output_type": "execute_result"
    }
   ],
   "source": [
    "r.ranking_clossnes()"
   ]
  },
  {
   "cell_type": "code",
   "execution_count": 7,
   "metadata": {},
   "outputs": [
    {
     "data": {
      "text/plain": [
       "[{'buildings': {},\n",
       "  'care': False,\n",
       "  'coordinates': '[2:457:8]',\n",
       "  'counterspionage': '0',\n",
       "  'date': '08.06.2018 12:09:28',\n",
       "  'defense': {},\n",
       "  'inactive': False,\n",
       "  'name': 'Rapero Furioso',\n",
       "  'planet': 'Koprulu',\n",
       "  'research': {},\n",
       "  'resources': {'crystal': '100', 'deuteryum': '300', 'metal': '200'},\n",
       "  'ships': {}},\n",
       " {'buildings': {},\n",
       "  'care': False,\n",
       "  'coordinates': '[2:456:9]',\n",
       "  'counterspionage': '0',\n",
       "  'date': '08.06.2018 12:09:28',\n",
       "  'defense': {},\n",
       "  'inactive': False,\n",
       "  'name': 'Rapero Furioso',\n",
       "  'planet': 'Koprulu',\n",
       "  'research': {},\n",
       "  'resources': {'crystal': '200', 'deuteryum': '200', 'metal': '300'},\n",
       "  'ships': {}},\n",
       " {'buildings': {},\n",
       "  'care': True,\n",
       "  'coordinates': '[6:456:8]',\n",
       "  'counterspionage': '0',\n",
       "  'date': '08.06.2018 12:09:28',\n",
       "  'defense': {},\n",
       "  'inactive': False,\n",
       "  'name': 'Rapero Furioso',\n",
       "  'planet': 'Koprulu',\n",
       "  'research': {},\n",
       "  'resources': {'crystal': '539.762',\n",
       "   'deuteryum': '227.057',\n",
       "   'energy': '3.108',\n",
       "   'metal': '407.917'},\n",
       "  'ships': {}},\n",
       " {'buildings': {},\n",
       "  'care': True,\n",
       "  'coordinates': '[3:200:1]',\n",
       "  'counterspionage': '0',\n",
       "  'date': '08.06.2018 12:09:28',\n",
       "  'defense': {},\n",
       "  'inactive': False,\n",
       "  'name': 'Rapero Furioso',\n",
       "  'planet': 'Koprulu',\n",
       "  'research': {},\n",
       "  'resources': {'crystal': '0', 'deuteryum': '250', 'metal': '1.000'},\n",
       "  'ships': {}},\n",
       " {'buildings': {},\n",
       "  'care': True,\n",
       "  'coordinates': '[1:456:8]',\n",
       "  'counterspionage': '0',\n",
       "  'date': '08.06.2018 12:09:28',\n",
       "  'defense': {},\n",
       "  'inactive': False,\n",
       "  'name': 'Rapero Furioso',\n",
       "  'planet': 'Koprulu',\n",
       "  'research': {},\n",
       "  'resources': {'crystal': '200', 'deuteryum': '300', 'metal': '100'},\n",
       "  'ships': {}}]"
      ]
     },
     "execution_count": 7,
     "metadata": {},
     "output_type": "execute_result"
    }
   ],
   "source": [
    "r.ranking_resources()"
   ]
  },
  {
   "cell_type": "code",
   "execution_count": null,
   "metadata": {
    "collapsed": true
   },
   "outputs": [],
   "source": []
  }
 ],
 "metadata": {
  "kernelspec": {
   "display_name": "Python 3",
   "language": "python",
   "name": "python3"
  },
  "language_info": {
   "codemirror_mode": {
    "name": "ipython",
    "version": 3
   },
   "file_extension": ".py",
   "mimetype": "text/x-python",
   "name": "python",
   "nbconvert_exporter": "python",
   "pygments_lexer": "ipython3",
   "version": "3.6.2"
  }
 },
 "nbformat": 4,
 "nbformat_minor": 2
}
